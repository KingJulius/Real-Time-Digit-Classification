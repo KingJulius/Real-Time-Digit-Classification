{
 "cells": [
  {
   "cell_type": "code",
   "execution_count": 1,
   "id": "4e30e7c2",
   "metadata": {},
   "outputs": [],
   "source": [
    "import numpy as np\n",
    "import cv2\n",
    "import os\n",
    "from sklearn.model_selection import train_test_split\n",
    "import matplotlib.pyplot as plt\n",
    "from tensorflow import keras\n",
    "from keras.preprocessing.image import ImageDataGenerator\n",
    "from keras.utils.np_utils import to_categorical\n",
    "from keras.models import Sequential\n",
    "from keras.layers import Dense\n",
    "from keras.optimizers import Adam\n",
    "from keras.layers import Dropout,Flatten\n",
    "from keras.models import load_model\n",
    "from keras.models import model_from_json\n",
    "from keras.layers.convolutional import Conv2D,MaxPooling2D"
   ]
  },
  {
   "cell_type": "code",
   "execution_count": 5,
   "id": "e735a2d2",
   "metadata": {},
   "outputs": [],
   "source": [
    "def preProcessing(img):\n",
    "    img = cv2.cvtColor(img,cv2.COLOR_BGR2GRAY)\n",
    "    img = cv2.equalizeHist(img) \n",
    "    img = img/255\n",
    "    return img"
   ]
  },
  {
   "cell_type": "code",
   "execution_count": 6,
   "id": "d7d42232",
   "metadata": {},
   "outputs": [],
   "source": [
    "def myModel():\n",
    "    noOfFilters = 60\n",
    "    sizeOfFilter1 = (5,5)\n",
    "    sizeOfFilter2 = (3, 3)\n",
    "    sizeOfPool = (2,2)\n",
    "    noOfNodes= 500\n",
    "\n",
    "    model = Sequential()\n",
    "    model.add((Conv2D(noOfFilters,sizeOfFilter1,input_shape=(imageDimensions[0],\n",
    "                      imageDimensions[1],1),activation='relu')))\n",
    "    model.add((Conv2D(noOfFilters, sizeOfFilter1, activation='relu')))\n",
    "    model.add(MaxPooling2D(pool_size=sizeOfPool))\n",
    "    model.add((Conv2D(noOfFilters//2, sizeOfFilter2, activation='relu')))\n",
    "    model.add((Conv2D(noOfFilters//2, sizeOfFilter2, activation='relu')))\n",
    "    model.add(MaxPooling2D(pool_size=sizeOfPool))\n",
    "    model.add(Dropout(0.5))\n",
    "    model.add(Flatten())\n",
    "    model.add(Dense(noOfNodes,activation='relu'))\n",
    "    model.add(Dropout(0.5))\n",
    "    model.add(Dense(noOfClasses, activation='softmax'))\n",
    "\n",
    "    model.compile(Adam(lr=0.001),loss='categorical_crossentropy',metrics=['accuracy'])\n",
    "    return model"
   ]
  },
  {
   "cell_type": "code",
   "execution_count": 7,
   "id": "a53111ab",
   "metadata": {},
   "outputs": [
    {
     "name": "stdout",
     "output_type": "stream",
     "text": [
      "Total Classes Detected: 10\n",
      "Importing Classes .......\n",
      "0 1 2 3 4 5 6 7 8 9  \n",
      "Total Images in Images List =  10160\n",
      "Total IDS in classNo List=  10160\n",
      "(10160, 32, 32, 3)\n",
      "X_train size:  (6502, 32, 32, 3)\n",
      "X_test size (2032, 32, 32, 3)\n",
      "(1626, 32, 32, 3)\n",
      "Y_train size:  (6502,)\n",
      "Y_test size (2032,)\n",
      "(1626,)\n",
      "[643, 673, 634, 626, 656, 646, 658, 660, 650, 656]\n"
     ]
    },
    {
     "data": {
      "image/png": "[encoded data removed]",
      "text/plain": [
       "<Figure size 720x360 with 1 Axes>"
      ]
     },
     "metadata": {
      "needs_background": "light"
     },
     "output_type": "display_data"
    },
    {
     "name": "stdout",
     "output_type": "stream",
     "text": [
      "Model: \"sequential_1\"\n",
      "_________________________________________________________________\n",
      "Layer (type)                 Output Shape              Param #   \n",
      "=================================================================\n",
      "conv2d_4 (Conv2D)            (None, 28, 28, 60)        1560      \n",
      "_________________________________________________________________\n",
      "conv2d_5 (Conv2D)            (None, 24, 24, 60)        90060     \n",
      "_________________________________________________________________\n",
      "max_pooling2d_2 (MaxPooling2 (None, 12, 12, 60)        0         \n",
      "_________________________________________________________________\n",
      "conv2d_6 (Conv2D)            (None, 10, 10, 30)        16230     \n",
      "_________________________________________________________________\n",
      "conv2d_7 (Conv2D)            (None, 8, 8, 30)          8130      \n",
      "_________________________________________________________________\n",
      "max_pooling2d_3 (MaxPooling2 (None, 4, 4, 30)          0         \n",
      "_________________________________________________________________\n",
      "dropout_2 (Dropout)          (None, 4, 4, 30)          0         \n",
      "_________________________________________________________________\n",
      "flatten_1 (Flatten)          (None, 480)               0         \n",
      "_________________________________________________________________\n",
      "dense_2 (Dense)              (None, 500)               240500    \n",
      "_________________________________________________________________\n",
      "dropout_3 (Dropout)          (None, 500)               0         \n",
      "_________________________________________________________________\n",
      "dense_3 (Dense)              (None, 10)                5010      \n",
      "=================================================================\n",
      "Total params: 361,490\n",
      "Trainable params: 361,490\n",
      "Non-trainable params: 0\n",
      "_________________________________________________________________\n",
      "None\n",
      "Epoch 1/10\n",
      "100/100 [==============================] - 16s 158ms/step - loss: 1.4222 - accuracy: 0.4877 - val_loss: 0.2263 - val_accuracy: 0.9164\n",
      "Epoch 2/10\n",
      "100/100 [==============================] - 16s 157ms/step - loss: 0.4654 - accuracy: 0.8498 - val_loss: 0.1373 - val_accuracy: 0.9526\n",
      "Epoch 3/10\n",
      "100/100 [==============================] - 15s 152ms/step - loss: 0.3274 - accuracy: 0.8928 - val_loss: 0.0984 - val_accuracy: 0.9674\n",
      "Epoch 4/10\n",
      "100/100 [==============================] - 16s 163ms/step - loss: 0.2547 - accuracy: 0.9180 - val_loss: 0.0897 - val_accuracy: 0.9723\n",
      "Epoch 5/10\n",
      "100/100 [==============================] - 16s 157ms/step - loss: 0.2774 - accuracy: 0.9120 - val_loss: 0.0595 - val_accuracy: 0.9828\n",
      "Epoch 6/10\n",
      "100/100 [==============================] - 16s 159ms/step - loss: 0.1806 - accuracy: 0.9426 - val_loss: 0.0562 - val_accuracy: 0.9846\n",
      "Epoch 7/10\n",
      "100/100 [==============================] - 17s 166ms/step - loss: 0.1860 - accuracy: 0.9392 - val_loss: 0.0459 - val_accuracy: 0.9865\n",
      "Epoch 8/10\n",
      "100/100 [==============================] - 15s 154ms/step - loss: 0.1449 - accuracy: 0.9521 - val_loss: 0.0432 - val_accuracy: 0.9871\n",
      "Epoch 9/10\n",
      "100/100 [==============================] - 16s 158ms/step - loss: 0.1607 - accuracy: 0.9530 - val_loss: 0.0529 - val_accuracy: 0.9834\n",
      "Epoch 10/10\n",
      "100/100 [==============================] - 16s 155ms/step - loss: 0.1404 - accuracy: 0.9566 - val_loss: 0.0334 - val_accuracy: 0.9914\n"
     ]
    },
    {
     "data": {
      "image/png": "[encoded data removed]",
      "text/plain": [
       "<Figure size 432x288 with 1 Axes>"
      ]
     },
     "metadata": {
      "needs_background": "light"
     },
     "output_type": "display_data"
    },
    {
     "data": {
      "image/png": "[encoded data removed]",
      "text/plain": [
       "<Figure size 432x288 with 1 Axes>"
      ]
     },
     "metadata": {
      "needs_background": "light"
     },
     "output_type": "display_data"
    },
    {
     "name": "stdout",
     "output_type": "stream",
     "text": [
      "Test Score =  0.02264336496591568\n",
      "Test Accuracy = 0.9926180839538574\n",
      "INFO:tensorflow:Assets written to: my_model\\assets\n"
     ]
    }
   ],
   "source": [
    "path = 'myData'\n",
    "testRatio = 0.2\n",
    "valRatio = 0.2\n",
    "imageDimensions= (32,32,3)\n",
    "batchSizeVal= 50\n",
    "epochsVal = 10\n",
    "stepsPerEpochVal = 100\n",
    "\n",
    "count = 0\n",
    "images = []     \n",
    "classNo = []    \n",
    "\n",
    "myList = os.listdir(path)\n",
    "print(\"Total Classes Detected:\",len(myList))\n",
    "noOfClasses = len(myList)\n",
    "print(\"Importing Classes .......\")\n",
    "\n",
    "for x in range (0,noOfClasses):\n",
    "    myPicList = os.listdir(path+\"/\"+str(x))\n",
    "    for y in myPicList:\n",
    "        curImg = cv2.imread(path+\"/\"+str(x)+\"/\"+y)\n",
    "        curImg = cv2.resize(curImg,(32,32)) \n",
    "        images.append(curImg)\n",
    "        classNo.append(x)\n",
    "    print(x,end= \" \")\n",
    "print(\" \")\n",
    "print(\"Total Images in Images List = \",len(images))\n",
    "print(\"Total IDS in classNo List= \",len(classNo))\n",
    "\n",
    "images = np.array(images)\n",
    "classNo = np.array(classNo)\n",
    "print(images.shape)\n",
    "\n",
    "X_train,X_test,y_train,y_test = train_test_split(images,classNo,test_size=testRatio)\n",
    "X_train,X_validation,y_train,y_validation = train_test_split(X_train,y_train,test_size=valRatio)\n",
    "print(\"X_train size: \",X_train.shape)\n",
    "print(\"X_test size\",X_test.shape)\n",
    "print(X_validation.shape)\n",
    "print(\"Y_train size: \",y_train.shape)\n",
    "print(\"Y_test size\",y_test.shape)\n",
    "print(y_validation.shape)\n",
    "\n",
    "numOfSamples= []\n",
    "for x in range(0,noOfClasses):\n",
    "    numOfSamples.append(len(np.where(y_train==x)[0]))\n",
    "print(numOfSamples)\n",
    "\n",
    "plt.figure(figsize=(10,5))\n",
    "plt.bar(range(0,noOfClasses),numOfSamples, color=\"red\")\n",
    "plt.title(\"No. of images in each class\")\n",
    "plt.xlabel(\"Class Label\")\n",
    "plt.ylabel(\"Number of Images\")\n",
    "plt.show()\n",
    "\n",
    "X_train= np.array(list(map(preProcessing,X_train)))\n",
    "X_test= np.array(list(map(preProcessing,X_test)))\n",
    "X_validation= np.array(list(map(preProcessing,X_validation)))\n",
    "\n",
    "X_train = X_train.reshape(X_train.shape[0],X_train.shape[1],X_train.shape[2],1)\n",
    "X_test = X_test.reshape(X_test.shape[0],X_test.shape[1],X_test.shape[2],1)\n",
    "X_validation = X_validation.reshape(X_validation.shape[0],X_validation.shape[1],X_validation.shape[2],1)\n",
    "\n",
    "dataGen = ImageDataGenerator(width_shift_range=0.1,\n",
    "                             height_shift_range=0.1,\n",
    "                             zoom_range=0.2,\n",
    "                             shear_range=0.1,\n",
    "                             rotation_range=10)\n",
    "dataGen.fit(X_train) \n",
    "\n",
    "y_train = to_categorical(y_train,noOfClasses)\n",
    "y_test = to_categorical(y_test,noOfClasses)\n",
    "y_validation = to_categorical(y_validation,noOfClasses)\n",
    "\n",
    "model = myModel()\n",
    "print(model.summary())\n",
    "\n",
    "history = model.fit(dataGen.flow(X_train,y_train,\n",
    "                                 batch_size=batchSizeVal),\n",
    "                                 steps_per_epoch=stepsPerEpochVal,\n",
    "                                 epochs=epochsVal,\n",
    "                                 validation_data=(X_validation,y_validation),\n",
    "                                 shuffle=1)\n",
    "\n",
    "\n",
    "plt.figure(1)\n",
    "plt.plot(history.history['loss'])\n",
    "plt.plot(history.history['val_loss'])\n",
    "plt.legend(['training','validation'])\n",
    "plt.title('Loss')\n",
    "plt.xlabel('epoch')\n",
    "plt.figure(2)\n",
    "plt.plot(history.history['accuracy'])\n",
    "plt.plot(history.history['val_accuracy'])\n",
    "plt.legend(['training','validation'])\n",
    "plt.title('Accuracy')\n",
    "plt.xlabel('epoch')\n",
    "plt.show()\n",
    "\n",
    "score = model.evaluate(X_test,y_test,verbose=0)\n",
    "print('Test Score = ',score[0])\n",
    "print('Test Accuracy =', score[1])\n",
    "\n",
    "model.save('my_model')"
   ]
  },
  {
   "cell_type": "code",
   "execution_count": null,
   "id": "3de44260",
   "metadata": {},
   "outputs": [],
   "source": []
  }
 ],
 "metadata": {
  "kernelspec": {
   "display_name": "Python 3",
   "language": "python",
   "name": "python3"
  },
  "language_info": {
   "codemirror_mode": {
    "name": "ipython",
    "version": 3
   },
   "file_extension": ".py",
   "mimetype": "text/x-python",
   "name": "python",
   "nbconvert_exporter": "python",
   "pygments_lexer": "ipython3",
   "version": "3.7.10"
  }
 },
 "nbformat": 4,
 "nbformat_minor": 5
}
